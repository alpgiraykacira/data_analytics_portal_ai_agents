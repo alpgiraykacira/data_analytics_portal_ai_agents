{
 "cells": [
  {
   "cell_type": "code",
   "execution_count": 17,
   "id": "e94bcbb2",
   "metadata": {},
   "outputs": [],
   "source": [
    "#read messages.json\n",
    "import json\n",
    "import os\n",
    "import sys\n",
    "import re\n",
    "\n",
    "with open('messages.json', 'r') as f:\n",
    "                messages = json.load(f)"
   ]
  },
  {
   "cell_type": "code",
   "execution_count": 21,
   "id": "3f674516",
   "metadata": {},
   "outputs": [],
   "source": [
    "resp = messages[4][\"value\"][\"content\"]\n"
   ]
  },
  {
   "cell_type": "code",
   "execution_count": 24,
   "id": "263c4626",
   "metadata": {},
   "outputs": [],
   "source": [
    "#resp to dict\n",
    "resp = resp.replace(\"'\", '\"')\n",
    "resp = re.sub(r'(\\w+):', r'\"\\1\":', resp)\n",
    "resp = json.loads(resp)\n"
   ]
  },
  {
   "cell_type": "code",
   "execution_count": 25,
   "id": "b3011919",
   "metadata": {},
   "outputs": [
    {
     "data": {
      "text/plain": [
       "{'next': 'FINISH',\n",
       " 'task': 'The workflow is get data - return data. The process is complete and should be finished.'}"
      ]
     },
     "execution_count": 25,
     "metadata": {},
     "output_type": "execute_result"
    }
   ],
   "source": [
    "resp"
   ]
  }
 ],
 "metadata": {
  "kernelspec": {
   "display_name": "Python 3",
   "language": "python",
   "name": "python3"
  },
  "language_info": {
   "codemirror_mode": {
    "name": "ipython",
    "version": 3
   },
   "file_extension": ".py",
   "mimetype": "text/x-python",
   "name": "python",
   "nbconvert_exporter": "python",
   "pygments_lexer": "ipython3",
   "version": "3.13.2"
  }
 },
 "nbformat": 4,
 "nbformat_minor": 5
}
